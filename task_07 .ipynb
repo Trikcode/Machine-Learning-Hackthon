{
 "cells": [
  {
   "cell_type": "markdown",
   "metadata": {
    "execution_time": [
     1667291093056
    ],
    "pycharm": {
     "name": "#%% md\n"
    }
   },
   "source": [
    "# Coding Exercise\n",
    "Below you'll find a prompt describing a function that you need to implement.\n",
    "\n",
    "1. **Instead of changing existing code in place, create a new cell and rewrite the code.** This is important because we can't see the history of edited cells in the notebook.\n",
    "2. **Before you write code, explain what you’re about to do.** For example, if the previous cell has an error that you want to fix, explain what caused the error and how you plan to fix it.\n",
    "3. **Before you execute code that has outputs, think about what you hope to learn.** This notebook will prompt you write down your thought process. Do not update your explanation after seeing the output, unless you made a genuine mistake when guessing (e.g. typo).\n",
    "\n",
    "This notebook will prompt you with questions. Please answer them in the markdown cell. Do not modify the questions. Your answers should be specific to the code that you are writing, so please avoid generic answers. For example, if asked, \"What do you plan to do?\", please avoid simply answering, \"I will test the code.\" Instead explain how you will test the code and why (e.g. \"I will now test the edge case of an empty list, which should return...\")."
   ]
  },
  {
   "cell_type": "markdown",
   "metadata": {
    "collapsed": true,
    "execution_time": [
     1657630630305
    ],
    "pycharm": {
     "name": "#%% md\n"
    }
   },
   "source": [
    "## Task 1 Prompt\n",
    "\n",
    "Have you heard of the fibonacci sequence? It is defined by $f_0 = 0, f_1 = 1$ and $f_n=f_{n-1}+ f_{n-2}$ for $n\\geq 2$.\n",
    "\n",
    "This question is about a similar sequence, called gibonacci sequence. It is defined by $g_0 = x, g_1 = y$ and $g_n=g_{n-1}- g_{n-2}$ for $n\\geq 2$. Different possible starting values of the gibonacci sequence may lead to different gibonacci sequences.\n",
    "\n",
    "### Task\n",
    "You are given three arguments: `n, x, y`. Your task is to find $g_n$ using the above definition of a gibonacci sequence starting with $g_0=x, g_1=y$\n",
    "\n",
    "Write a function `gibonacci(n, x, y)` that takes in 3 arguments.\n",
    "\n",
    "### Inputs\n",
    "\n",
    "It is guaranteed that $n,x,y$ are integers and $0 \\leq n,x,y \\leq 10^9$.\n",
    "\n",
    "### Outputs\n",
    "\n",
    "`gibonacci(n, x, y)` should return $g_n$ given that $g_0=x, g_1=y$.\n",
    "\n",
    "### Examples\n",
    "\n",
    "`gibonacci(0, 0, 1) = 0`\n",
    "\n",
    "`gibonacci(1, 0, 1) = 1`\n",
    "\n",
    "`gibonacci(2, 0, 1) = 1`\n",
    "\n",
    "`gibonacci(3, 0, 1) = 0`"
   ]
  },
  {
   "cell_type": "markdown",
   "metadata": {
    "execution_time": [
     1667296302188
    ]
   },
   "source": [
    "TASK STARTED AT 12:05 PM"
   ]
  },
  {
   "cell_type": "markdown",
   "metadata": {
    "execution_time": [
     1667292064766,
     1667292085624,
     1667292107501,
     1667292190641
    ],
    "pycharm": {
     "name": "#%% md\n"
    }
   },
   "source": [
    "# **Q: How will you begin?**\n",
    "\n",
    "I will begin by defining the function and the parameters it will take in. I will then define the base cases and the recursive case and there after return the recursive case."
   ]
  },
  {
   "cell_type": "code",
   "execution_count": 3,
   "metadata": {
    "cell_needs_prompting": true,
    "deletable": false,
    "editable": false,
    "execution_time": [
     1667295139594
    ],
    "run_control": {
     "frozen": true
    }
   },
   "outputs": [
    {
     "data": {
      "text/plain": [
       "0"
      ]
     },
     "execution_count": 3,
     "metadata": {},
     "output_type": "execute_result"
    }
   ],
   "source": [
    "# base case is \n",
    "# g(0) = x\n",
    "# g(1) = y\n",
    "# recursive case is\n",
    "# g(n) = g(n-1) + g(n-2)\n",
    "\n",
    "def gibonacci(n, x, y):\n",
    "    if n == 0:\n",
    "        return x\n",
    "    elif n == 1:\n",
    "        return y\n",
    "    else:\n",
    "        return gibonacci(n-1, x, y) + gibonacci(n-2, x, y)\n",
    "\n",
    "gibonacci(0, 0, 1)\n"
   ]
  },
  {
   "cell_type": "code",
   "execution_count": null,
   "metadata": {},
   "outputs": [],
   "source": [
    "# executed in 0.3s"
   ]
  },
  {
   "cell_type": "code",
   "execution_count": 5,
   "metadata": {
    "cell_needs_prompting": true,
    "deletable": false,
    "editable": false,
    "execution_time": [
     1667295981170
    ],
    "run_control": {
     "frozen": true
    }
   },
   "outputs": [
    {
     "name": "stdout",
     "output_type": "stream",
     "text": [
      "3\n"
     ]
    }
   ],
   "source": [
    "print(gibonacci(4, 0, 1))"
   ]
  },
  {
   "cell_type": "code",
   "execution_count": null,
   "metadata": {},
   "outputs": [],
   "source": [
    "# executed in 0.1s"
   ]
  },
  {
   "cell_type": "markdown",
   "metadata": {
    "execution_time": [
     1667296055114
    ],
    "special_cell_type": "question_hope_to_learn_from_output"
   },
   "source": [
    "**Q: What do you want to learn from running this code?**\n",
    "\n",
    "I learn that the gibonacci sequence is a sequence of numbers where each number is the sum of the previous two numbers"
   ]
  },
  {
   "cell_type": "markdown",
   "metadata": {
    "execution_time": [
     1667296185211,
     1667296191518
    ],
    "special_cell_type": "question_next_plan"
   },
   "source": [
    "**Q: What is your plan now?**\n",
    "\n",
    "My plan is to make the code more efficient by using memoization. I will do this by using a dictionary to store the values of the function. I will then check if the value is in the dictionary. If it is, I will return the value. If it is not, I will calculate the value and store it in the dictionary. I will then return the value.\n",
    "\n"
   ]
  },
  {
   "cell_type": "code",
   "execution_count": 6,
   "metadata": {
    "cell_needs_prompting": true,
    "deletable": false,
    "editable": false,
    "execution_time": [
     1667296718774
    ],
    "run_control": {
     "frozen": true
    }
   },
   "outputs": [
    {
     "data": {
      "text/plain": [
       "144"
      ]
     },
     "execution_count": 6,
     "metadata": {},
     "output_type": "execute_result"
    }
   ],
   "source": [
    "def gibonacci(n, x, y, memo = {}):\n",
    "    if n == 0:\n",
    "        return x\n",
    "    elif n == 1:\n",
    "        return y\n",
    "    else:\n",
    "        if n in memo:\n",
    "            return memo[n]\n",
    "        else:\n",
    "            memo[n] = gibonacci(n-1, x, y) + gibonacci(n-2, x, y)\n",
    "            return memo[n]\n",
    "#call function\n",
    "gibonacci(10, 1, 2)"
   ]
  },
  {
   "cell_type": "markdown",
   "metadata": {
    "special_cell_type": "question_hope_to_learn_from_output"
   },
   "source": [
    "**Q: What do you expect the output to be (if any)?**\n",
    "\n",
    "144"
   ]
  },
  {
   "cell_type": "markdown",
   "metadata": {
    "execution_time": [
     1667296772279
    ],
    "special_cell_type": "question_output_commentary"
   },
   "source": [
    "**Q: Explain any problems with the code (skip if not applicable).**\n"
   ]
  },
  {
   "cell_type": "markdown",
   "metadata": {
    "execution_time": [
     1667295662973
    ],
    "special_cell_type": "question_hope_to_learn_from_output"
   },
   "source": [
    "**Q: What do you want to learn from running this code?**\n",
    "\n",
    "I want to learn how to use recursion to solve problems"
   ]
  },
  {
   "cell_type": "markdown",
   "metadata": {
    "execution_time": [
     1667295645773,
     1667295658393
    ],
    "special_cell_type": "question_next_plan"
   },
   "source": [
    "**Q: What will you do next? Why?**\n",
    "\n",
    "I will test the function to see if it works. I will do this by calling the function with different values of n, x, y.\n",
    "\n"
   ]
  },
  {
   "cell_type": "code",
   "execution_count": 4,
   "metadata": {
    "cell_needs_prompting": true,
    "deletable": false,
    "editable": false,
    "execution_time": [
     1667295550435
    ],
    "run_control": {
     "frozen": true
    }
   },
   "outputs": [
    {
     "name": "stdout",
     "output_type": "stream",
     "text": [
      "0\n",
      "1\n",
      "1\n",
      "2\n"
     ]
    }
   ],
   "source": [
    "print(gibonacci(0, 0, 1))\n",
    "print(gibonacci(1, 0, 1))\n",
    "print(gibonacci(2, 0, 1))\n",
    "print(gibonacci(3, 0, 1))"
   ]
  },
  {
   "cell_type": "code",
   "execution_count": null,
   "metadata": {},
   "outputs": [],
   "source": [
    "# executed in 0.5s"
   ]
  },
  {
   "cell_type": "markdown",
   "metadata": {
    "special_cell_type": "question_hope_to_learn_from_output"
   },
   "source": [
    "**Q: What are you trying to accomplish with this code?**\n",
    "\n",
    "I am trying to run extra tests to ensure that the  function passes all tests."
   ]
  },
  {
   "cell_type": "markdown",
   "metadata": {
    "execution_time": [
     1667295717642
    ],
    "special_cell_type": "question_output_commentary"
   },
   "source": [
    "**Q: Explain any problems with the code (skip if not applicable).**\n",
    "\n",
    "The code works fine. It is a recursive function that returns the g(n) of the gibonacci sequence.\n",
    "\n"
   ]
  },
  {
   "cell_type": "markdown",
   "metadata": {
    "execution_time": [
     1667295814743,
     1667295847502,
     1667295856409,
     1667295865834
    ],
    "special_cell_type": "question_next_plan"
   },
   "source": [
    "**Q: What are you thinking?**\n",
    "\n",
    "I am thinking of how I can improve the code.\n",
    "\n",
    "How I can make the code more efficient. \n",
    "\n",
    "How I can make the code more readable"
   ]
  },
  {
   "cell_type": "markdown",
   "metadata": {},
   "source": [
    "ENDED AT 12:51 PM"
   ]
  }
 ],
 "metadata": {
  "kernelspec": {
   "display_name": "Python 3 (ipykernel)",
   "language": "python",
   "name": "python3"
  },
  "language_info": {
   "codemirror_mode": {
    "name": "ipython",
    "version": 3
   },
   "file_extension": ".py",
   "mimetype": "text/x-python",
   "name": "python",
   "nbconvert_exporter": "python",
   "pygments_lexer": "ipython3",
   "version": "3.8.12"
  }
 },
 "nbformat": 4,
 "nbformat_minor": 1
}
