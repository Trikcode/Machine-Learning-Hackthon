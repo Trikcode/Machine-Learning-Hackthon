{
 "cells": [
  {
   "cell_type": "markdown",
   "metadata": {
    "pycharm": {
     "name": "#%% md\n"
    }
   },
   "source": [
    "# Coding Exercise\n",
    "Below you'll find a prompt describing a function that you need to implement.\n",
    "\n",
    "1. **Instead of changing existing code in place, create a new cell and rewrite the code.** This is important because we can't see the history of edited cells in the notebook.\n",
    "2. **Before you write code, explain what you’re about to do.** For example, if the previous cell has an error that you want to fix, explain what caused the error and how you plan to fix it.\n",
    "3. **Before you execute code that has outputs, think about what you hope to learn.** This notebook will prompt you write down your thought process. Do not update your explanation after seeing the output, unless you made a genuine mistake when guessing (e.g. typo).\n",
    "\n",
    "This notebook will prompt you with questions. Please answer them in the markdown cell. Do not modify the questions. Your answers should be specific to the code that you are writing, so please avoid generic answers. For example, if asked, \"What do you plan to do?\", please avoid simply answering, \"I will test the code.\" Instead explain how you will test the code and why (e.g. \"I will now test the edge case of an empty list, which should return...\")."
   ]
  },
  {
   "cell_type": "markdown",
   "metadata": {
    "collapsed": true,
    "execution_time": [
     1657630615134,
     1657634786820
    ],
    "pycharm": {
     "name": "#%% md\n"
    }
   },
   "source": [
    "## Task 2 Prompt\n",
    "\n",
    "There are $n$ ($n$ is even) players, conveniently labelled $1, 2, \\ldots n$. These players will play $m$ rounds of games. In each round of games, the players are split into two teams of $\\frac{n}{2}$ players each. Two players $x < y$ are said to have played against each other if they were on different teams for one of the $m$ games.\n",
    "\n",
    "### Task\n",
    "You are given three arguments: `n, m, games`. Your task is to check that for all pairs of players $1 \\leq x, y \\leq n$, player $x$ has played against $y$. `games` is a 2-dimensional list that represents the $m$ rounds of games among $n$ players.\n",
    "\n",
    "Write a function `check(n, m, games)` that takes in 3 arguments.\n",
    "\n",
    "### Inputs\n",
    "\n",
    "It is guaranteed that $n, m$ are integers and $1 \\leq n \\leq 20,000$, $1\\leq m \\leq 30$. It is also guaranteed that $n$ is even.\n",
    "\n",
    " `games` is a 2 dimensional list with `m` rows and `n` columns, where `games[i]` is a permutation of `1,2,3,...,n` representing round number $i$. In particular for round `i`, `games[i][0], games[i][1], games[i][n/2-1]` is on one team, `games[i][n/2], games[i][n/2+1], games[i][n-1]` is on the other team.\n",
    "\n",
    "### Outputs\n",
    "\n",
    "`check(n, m, games)` should return a boolean, True if and only if all pairs of players have played against each other in the $m$ rounds of games.\n",
    "\n",
    "### Examples\n",
    "\n",
    "`check(2, 1, [[1, 2]]) = True`\n",
    "\n",
    "`check(4, 2, [[1, 2, 3, 4], [4, 3, 1, 2]]) = False`\n",
    "\n",
    "`check(4, 2, [[1, 2, 3, 4], [1, 3, 2, 4]]) = True`\n",
    "\n",
    "`check(6, 6, [[1, 6, 3, 4, 5, 2], [6, 4, 2, 3, 1, 5], [4, 2, 1, 5, 6, 3], [4, 5, 1, 6, 2, 3], [3, 2, 5, 1, 6, 4], [2, 3, 6, 4, 1, 5]]) = True`\n",
    "\n",
    "`check(6, 6, [[3, 1, 4, 5, 6, 2], [5, 3, 2, 4, 1, 6], [5, 3, 6, 4, 2, 1], [6, 5, 3, 2, 1, 4], [5, 4, 1, 2, 6, 3], [4, 1, 6, 2, 5, 3]]) = False`"
   ]
  },
  {
   "cell_type": "markdown",
   "metadata": {
    "execution_time": [
     1667300444733
    ]
   },
   "source": [
    "STARTED AT 2:00 PM"
   ]
  },
  {
   "cell_type": "markdown",
   "metadata": {
    "execution_time": [
     1667300345339,
     1667300403898
    ],
    "pycharm": {
     "name": "#%% md\n"
    }
   },
   "source": [
    "**Q: How will you begin?**\n",
    "\n",
    "I will begin by checking if n is even. If n is not even, then the function will return False. If n is even, then I will check if n is in the range. If n is not in the range, then the function will return False. If n is in the range, then I will check if m is in the range. If m is not in the range, then the function will return False. If m is in the range, then I will check if games is a 2-dimensional list with m rows and n columns. If games is not a 2-dimensional list with m rows and n columns, then the function will return False. If games is a 2-dimensional list with m rows and n columns, then I will check if games[i] is a permutation of 1,2,3,...,n. If games[i] is not a permutation of 1,2,3,...,n, then the function will return False. If games[i] is a permutation of 1,2,3,...,n, then I will check if for all pairs of players 1<=x,y<=n, player x has played against y. If player x has not played against player y, then the function will return False. If player x has played against player y, then the function will return True."
   ]
  },
  {
   "cell_type": "code",
   "execution_count": 1,
   "metadata": {
    "cell_needs_prompting": true,
    "deletable": false,
    "execution_time": [
     1667301463037
    ],
    "run_control": {
     "frozen": true
    }
   },
   "outputs": [
    {
     "name": "stdout",
     "output_type": "stream",
     "text": [
      "True\n"
     ]
    }
   ],
   "source": [
    "def check(n, m, games):\n",
    "    if n % 2 !=0:\n",
    "        return False\n",
    "    if n < 1 or n > 20000:\n",
    "        return False\n",
    "    if m < 1 or m > 30:\n",
    "        return False\n",
    "# check if games is a 2-dimensional list with m rows and n columns\n",
    "    if len(games) != m:\n",
    "        return False\n",
    "    for i in range(m):\n",
    "        if len(games[i]) != n:\n",
    "            return False\n",
    "# check if games[i] is a permutation of 1,2,3,...,n\n",
    "    for i in range(m):\n",
    "        for j in range(n):\n",
    "            if games[i][j] < 1 or games[i][j] > n:\n",
    "                return False\n",
    "# check if for all pairs of players 1<=x,y<=n, player x has played against y\n",
    "    for x in range (1, n+1):\n",
    "        for y in range(x+1, n+1):\n",
    "            if not check_pair(x, y, games):\n",
    "                return False\n",
    "    return True\n",
    "\n",
    "# check if player x has played against player y\n",
    "def check_pair(x, y, games):\n",
    "    for i in range(len(games)):\n",
    "        if check_pair_in_game(x, y, games[i]):\n",
    "            return True\n",
    "    return False\n",
    "# check if player x has played against player y in game\n",
    "def check_pair_in_game(x, y, game):\n",
    "# check if x and y are on the same team\n",
    "                if x in game[:len(game)//2] and y in game[:len(game)//2]:\n",
    "                                return False\n",
    "                if x in game[len(game)//2:] and y in game[len(game)//2:]:\n",
    "                                return False\n",
    "                return True\n",
    "\n",
    "print(check(2, 1, [[1, 2]]))                \n",
    "            \n",
    "        "
   ]
  },
  {
   "cell_type": "markdown",
   "metadata": {
    "execution_time": [
     1667304829648
    ],
    "special_cell_type": "question_hope_to_learn_from_output"
   },
   "source": [
    "**Q: What are you trying to accomplish with this code?**\n",
    "\n",
    "I am trying to check if for all pairs of players 1<=x, y<=n, player x has played against y where games is a 2-dimensional list that represents the  m  rounds of games among  n  players."
   ]
  },
  {
   "cell_type": "markdown",
   "metadata": {
    "execution_time": [
     1667301778944
    ],
    "special_cell_type": "question_output_commentary"
   },
   "source": [
    "**Q: What did you learn from running this code?**\n",
    "\n",
    "I learned that It was important to check if games[i] is a permutation of 1,2,3,...,n and to check if for all pairs of players 1<=x,y<=n, player x has played against y"
   ]
  },
  {
   "cell_type": "markdown",
   "metadata": {
    "execution_time": [
     1667302113335
    ],
    "special_cell_type": "question_next_plan"
   },
   "source": [
    "**Q: What will you do next? Why?**\n",
    "\n",
    "I will run extra tests on my function to test its effectiveness\n"
   ]
  },
  {
   "cell_type": "code",
   "execution_count": 4,
   "metadata": {
    "cell_needs_prompting": true,
    "deletable": false,
    "editable": false,
    "execution_time": [
     1667305034845
    ],
    "run_control": {
     "frozen": true
    }
   },
   "outputs": [
    {
     "name": "stdout",
     "output_type": "stream",
     "text": [
      "True\n",
      "False\n",
      "True\n",
      "True\n",
      "False\n"
     ]
    }
   ],
   "source": [
    "def check(n, m, games):\n",
    "    if n % 2 !=0:\n",
    "        return False\n",
    "    if n < 1 or n > 20000:\n",
    "        return False\n",
    "    if m < 1 or m > 30:\n",
    "        return False\n",
    "# check if games is a 2-dimensional list with m rows and n columns\n",
    "    if len(games) != m:\n",
    "        return False\n",
    "    for i in range(m):\n",
    "        if len(games[i]) != n:\n",
    "            return False\n",
    "# check if games[i] is a permutation of 1,2,3,...,n\n",
    "    for i in range(m):\n",
    "        for j in range(n):\n",
    "            if games[i][j] < 1 or games[i][j] > n:\n",
    "                return False\n",
    "# check if for all pairs of players 1<=x,y<=n, player x has played against y\n",
    "    for x in range (1, n+1):\n",
    "        for y in range(x+1, n+1):\n",
    "            if not check_pair(x, y, games):\n",
    "                return False\n",
    "    return True\n",
    "\n",
    "# check if player x has played against player y\n",
    "def check_pair(x, y, games):\n",
    "    for i in range(len(games)):\n",
    "        if check_pair_in_game(x, y, games[i]):\n",
    "            return True\n",
    "    return False\n",
    "# check if player x has played against player y in game\n",
    "def check_pair_in_game(x, y, game):\n",
    "# check if x and y are on the same team\n",
    "                if x in game[:len(game)//2] and y in game[:len(game)//2]:\n",
    "                                return False\n",
    "                if x in game[len(game)//2:] and y in game[len(game)//2:]:\n",
    "                                return False\n",
    "                return True\n",
    "\n",
    "print(check(2, 1, [[1, 2]]))\n",
    "print(check(4, 2, [[1, 2, 3, 4], [4, 3, 1, 2]]))\n",
    "print(check(4, 2, [[1, 2, 3, 4], [1, 3, 2, 4]]))\n",
    "print(check(6, 6, [[1, 6, 3, 4, 5, 2], [6, 4, 2, 3, 1, 5], [4, 2, 1, 5, 6, 3], [4, 5, 1, 6, 2, 3], [3, 2, 5, 1, 6, 4], [2, 3, 6, 4, 1, 5]]))\n",
    "print(check(6, 6, [[3, 1, 4, 5, 6, 2], [5, 3, 2, 4, 1, 6], [5, 3, 6, 4, 2, 1], [6, 5, 3, 2, 1, 4], [5, 4, 1, 2, 6, 3], [4, 1, 6, 2, 5, 3]]))            \n",
    "            \n",
    "        "
   ]
  },
  {
   "cell_type": "markdown",
   "metadata": {
    "execution_time": [
     1667305140105
    ],
    "special_cell_type": "question_output_commentary"
   },
   "source": [
    "**Q: Do you think the function implementation is correct? (yes, no, unsure)**\n",
    "\n",
    "Yes! I think it's correct.\n"
   ]
  }
 ],
 "metadata": {
  "kernelspec": {
   "display_name": "Python 3 (ipykernel)",
   "language": "python",
   "name": "python3"
  },
  "language_info": {
   "codemirror_mode": {
    "name": "ipython",
    "version": 3
   },
   "file_extension": ".py",
   "mimetype": "text/x-python",
   "name": "python",
   "nbconvert_exporter": "python",
   "pygments_lexer": "ipython3",
   "version": "3.8.12"
  }
 },
 "nbformat": 4,
 "nbformat_minor": 1
}
